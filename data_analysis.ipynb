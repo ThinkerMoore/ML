{
 "cells": [
  {
   "cell_type": "code",
   "execution_count": 1,
   "metadata": {},
   "outputs": [],
   "source": [
    "import pandas as pd"
   ]
  },
  {
   "cell_type": "markdown",
   "metadata": {},
   "source": [
    "# 原始数据导入"
   ]
  },
  {
   "cell_type": "code",
   "execution_count": 2,
   "metadata": {},
   "outputs": [
    {
     "name": "stdout",
     "output_type": "stream",
     "text": [
      "(210000, 146) (90000, 146)\n"
     ]
    }
   ],
   "source": [
    "train_org = pd.read_csv('./train.csv')\n",
    "test_org = pd.read_csv('./test.csv')\n",
    "print(train_org.shape, test_org.shape)"
   ]
  },
  {
   "cell_type": "code",
   "execution_count": 3,
   "metadata": {},
   "outputs": [
    {
     "name": "stdout",
     "output_type": "stream",
     "text": [
      "<class 'pandas.core.frame.DataFrame'>\n",
      "RangeIndex: 210000 entries, 0 to 209999\n",
      "Columns: 146 entries, user_pin to label\n",
      "dtypes: int64(145), object(1)\n",
      "memory usage: 233.9+ MB\n"
     ]
    }
   ],
   "source": [
    "train_org.info()"
   ]
  },
  {
   "cell_type": "code",
   "execution_count": 4,
   "metadata": {},
   "outputs": [],
   "source": [
    "train_x = train_org.iloc[:, 1:-2]\n",
    "train_y = train_org['label']\n",
    "test_x = test_org.iloc[:, 1:-2]\n",
    "test_y = test_org['label']"
   ]
  },
  {
   "cell_type": "code",
   "execution_count": 5,
   "metadata": {},
   "outputs": [
    {
     "data": {
      "text/plain": [
       "(210000, 143)"
      ]
     },
     "execution_count": 5,
     "metadata": {},
     "output_type": "execute_result"
    }
   ],
   "source": [
    "train_x.shape"
   ]
  },
  {
   "cell_type": "code",
   "execution_count": 6,
   "metadata": {},
   "outputs": [
    {
     "data": {
      "text/plain": [
       "69857"
      ]
     },
     "execution_count": 6,
     "metadata": {},
     "output_type": "execute_result"
    }
   ],
   "source": [
    "train_y.sum()"
   ]
  },
  {
   "cell_type": "code",
   "execution_count": 7,
   "metadata": {},
   "outputs": [
    {
     "data": {
      "text/plain": [
       "30143"
      ]
     },
     "execution_count": 7,
     "metadata": {},
     "output_type": "execute_result"
    }
   ],
   "source": [
    "test_y.sum()"
   ]
  },
  {
   "cell_type": "markdown",
   "metadata": {},
   "source": [
    "# 数据预处理"
   ]
  },
  {
   "cell_type": "markdown",
   "metadata": {},
   "source": [
    "## 每个特征缺失值比例查看"
   ]
  },
  {
   "cell_type": "code",
   "execution_count": 8,
   "metadata": {},
   "outputs": [],
   "source": [
    "name_list = train_x.columns.values.tolist()"
   ]
  },
  {
   "cell_type": "code",
   "execution_count": 9,
   "metadata": {},
   "outputs": [],
   "source": [
    "# 查看单个特征缺失值比例\n",
    "def get_null_percent(chara_name):\n",
    "    false_true_arr = train_org[chara_name].isnull()\n",
    "    total = len(false_true_arr)\n",
    "    true_result = 0\n",
    "    for part in false_true_arr:\n",
    "        if part == 'true':\n",
    "            true_result += 1\n",
    "    true_percent = true_result / total\n",
    "    return true_percent"
   ]
  },
  {
   "cell_type": "code",
   "execution_count": 10,
   "metadata": {},
   "outputs": [
    {
     "data": {
      "text/plain": [
       "0.0"
      ]
     },
     "execution_count": 10,
     "metadata": {},
     "output_type": "execute_result"
    }
   ],
   "source": [
    "get_null_percent(name_list[0])"
   ]
  },
  {
   "cell_type": "code",
   "execution_count": 11,
   "metadata": {},
   "outputs": [],
   "source": [
    "# 查看所有特征缺失值比例\n",
    "def get_total_null_character(character_name_list):\n",
    "    dic = {}\n",
    "    for character in character_name_list:\n",
    "        chara_null_percent = get_null_percent(character)\n",
    "        dic[character] = chara_null_percent\n",
    "    return dic"
   ]
  },
  {
   "cell_type": "code",
   "execution_count": 12,
   "metadata": {},
   "outputs": [],
   "source": [
    "# 打印出有缺失值的特征\n",
    "def get_null_character(dic_chara):\n",
    "    for k, v in dic_chara.items():\n",
    "        if v != 0.0:\n",
    "            print(k)"
   ]
  },
  {
   "cell_type": "code",
   "execution_count": 13,
   "metadata": {},
   "outputs": [],
   "source": [
    "dic_chara = get_total_null_character(name_list)\n",
    "get_null_character(dic_chara)"
   ]
  },
  {
   "cell_type": "markdown",
   "metadata": {},
   "source": [
    "## 去掉取值变化小的特征"
   ]
  },
  {
   "cell_type": "code",
   "execution_count": 14,
   "metadata": {},
   "outputs": [
    {
     "data": {
      "text/plain": [
       "(210000, 17)"
      ]
     },
     "execution_count": 14,
     "metadata": {},
     "output_type": "execute_result"
    }
   ],
   "source": [
    "from sklearn.feature_selection import VarianceThreshold\n",
    "sel = VarianceThreshold(threshold=(.8 * (1 - .8)))\n",
    "result = sel.fit_transform(train_x)\n",
    "result.shape"
   ]
  },
  {
   "cell_type": "code",
   "execution_count": 15,
   "metadata": {},
   "outputs": [
    {
     "data": {
      "text/plain": [
       "(90000, 17)"
      ]
     },
     "execution_count": 15,
     "metadata": {},
     "output_type": "execute_result"
    }
   ],
   "source": [
    "test_result = sel.fit_transform(test_x)\n",
    "test_result.shape"
   ]
  },
  {
   "cell_type": "markdown",
   "metadata": {},
   "source": [
    "## 特征选择"
   ]
  },
  {
   "cell_type": "markdown",
   "metadata": {},
   "source": [
    "### 单个特征的差异性"
   ]
  },
  {
   "cell_type": "code",
   "execution_count": 16,
   "metadata": {},
   "outputs": [],
   "source": [
    "from sklearn.feature_selection import SelectKBest"
   ]
  },
  {
   "cell_type": "code",
   "execution_count": 17,
   "metadata": {},
   "outputs": [],
   "source": [
    "from sklearn.feature_selection import chi2"
   ]
  },
  {
   "cell_type": "code",
   "execution_count": 18,
   "metadata": {},
   "outputs": [],
   "source": [
    "X_new = SelectKBest(chi2, k=10).fit_transform(result, train_y)"
   ]
  },
  {
   "cell_type": "code",
   "execution_count": 19,
   "metadata": {},
   "outputs": [
    {
     "data": {
      "text/plain": [
       "(210000, 10)"
      ]
     },
     "execution_count": 19,
     "metadata": {},
     "output_type": "execute_result"
    }
   ],
   "source": [
    "X_new.shape"
   ]
  },
  {
   "cell_type": "code",
   "execution_count": 20,
   "metadata": {},
   "outputs": [
    {
     "data": {
      "text/plain": [
       "(210000, 10)"
      ]
     },
     "execution_count": 20,
     "metadata": {},
     "output_type": "execute_result"
    }
   ],
   "source": [
    "X_new.shape"
   ]
  },
  {
   "cell_type": "code",
   "execution_count": 21,
   "metadata": {},
   "outputs": [
    {
     "data": {
      "text/plain": [
       "(90000, 10)"
      ]
     },
     "execution_count": 21,
     "metadata": {},
     "output_type": "execute_result"
    }
   ],
   "source": [
    "test_X_new = SelectKBest(chi2, k=10).fit_transform(test_result, test_y)\n",
    "test_X_new.shape"
   ]
  },
  {
   "cell_type": "markdown",
   "metadata": {},
   "source": [
    "# 模型选择"
   ]
  },
  {
   "cell_type": "markdown",
   "metadata": {},
   "source": [
    "## SVM"
   ]
  },
  {
   "cell_type": "code",
   "execution_count": 32,
   "metadata": {},
   "outputs": [],
   "source": [
    "from sklearn import svm\n",
    "from sklearn.model_selection import GridSearchCV\n",
    "from sklearn.metrics import accuracy_score"
   ]
  },
  {
   "cell_type": "markdown",
   "metadata": {},
   "source": [
    "### matching"
   ]
  },
  {
   "cell_type": "code",
   "execution_count": 29,
   "metadata": {},
   "outputs": [
    {
     "data": {
      "text/plain": [
       "SVC(C=1.0, cache_size=200, class_weight=None, coef0=0.0,\n",
       "  decision_function_shape='ovr', degree=3, gamma='auto_deprecated',\n",
       "  kernel='linear', max_iter=-1, probability=False, random_state=None,\n",
       "  shrinking=True, tol=0.001, verbose=False)"
      ]
     },
     "execution_count": 29,
     "metadata": {},
     "output_type": "execute_result"
    }
   ],
   "source": [
    "svm_model = svm.SVC(kernel='linear')\n",
    "svm_model.fit(X_new, train_y)"
   ]
  },
  {
   "cell_type": "code",
   "execution_count": 34,
   "metadata": {},
   "outputs": [
    {
     "name": "stdout",
     "output_type": "stream",
     "text": [
      "0.9957222222222222\n"
     ]
    }
   ],
   "source": [
    "y_pred = svm_model.predict(test_X_new)\n",
    "print(accuracy_score(y_pred, test_y))"
   ]
  },
  {
   "cell_type": "markdown",
   "metadata": {},
   "source": [
    "### adapting"
   ]
  },
  {
   "cell_type": "code",
   "execution_count": 25,
   "metadata": {},
   "outputs": [],
   "source": [
    "tuned_parameters = [{'kernel': ['rbf'], \n",
    "                     'gamma': [1e-3, 1e-4],\n",
    "                     'C': [1, 10, 100, 1000]},\n",
    "                    {'kernel': ['linear'], \n",
    "                     'C': [1, 10, 100, 1000]}]"
   ]
  },
  {
   "cell_type": "code",
   "execution_count": 36,
   "metadata": {},
   "outputs": [
    {
     "data": {
      "text/plain": [
       "GridSearchCV(cv=5, error_score='raise-deprecating',\n",
       "       estimator=SVC(C=1.0, cache_size=200, class_weight=None, coef0=0.0,\n",
       "  decision_function_shape='ovr', degree=3, gamma='auto_deprecated',\n",
       "  kernel='rbf', max_iter=-1, probability=False, random_state=None,\n",
       "  shrinking=True, tol=0.001, verbose=False),\n",
       "       fit_params=None, iid='warn', n_jobs=None,\n",
       "       param_grid=[{'kernel': ['rbf'], 'gamma': [0.001, 0.0001], 'C': [1, 10, 100, 1000]}, {'kernel': ['linear'], 'C': [1, 10, 100, 1000]}],\n",
       "       pre_dispatch='2*n_jobs', refit=True, return_train_score='warn',\n",
       "       scoring=None, verbose=0)"
      ]
     },
     "execution_count": 36,
     "metadata": {},
     "output_type": "execute_result"
    }
   ],
   "source": [
    "clf = GridSearchCV(svm.SVC(), \n",
    "                    tuned_parameters, \n",
    "                    cv=5)\n",
    "clf.fit(X_new, train_y)"
   ]
  },
  {
   "cell_type": "code",
   "execution_count": 40,
   "metadata": {},
   "outputs": [
    {
     "name": "stdout",
     "output_type": "stream",
     "text": [
      "{'C': 1, 'gamma': 0.001, 'kernel': 'rbf'}\n",
      "0.9957222222222222\n",
      "0.9958952380952381\n"
     ]
    }
   ],
   "source": [
    "print(clf.best_params_)\n",
    "print(clf.score(test_X_new, test_y))\n",
    "print(clf.best_score_)"
   ]
  },
  {
   "cell_type": "code",
   "execution_count": 41,
   "metadata": {},
   "outputs": [
    {
     "name": "stdout",
     "output_type": "stream",
     "text": [
      "0.9957222222222222\n"
     ]
    }
   ],
   "source": [
    "# 对拟合好的参数进行验证\n",
    "svm_model = svm.SVC(kernel='rbf', C=1, gamma=1e-3)\n",
    "svm_model.fit(X_new, train_y)\n",
    "y_pred = svm_model.predict(test_X_new)\n",
    "print(accuracy_score(y_pred, test_y))"
   ]
  },
  {
   "cell_type": "code",
   "execution_count": null,
   "metadata": {},
   "outputs": [],
   "source": []
  },
  {
   "cell_type": "markdown",
   "metadata": {},
   "source": [
    "## GBDT"
   ]
  },
  {
   "cell_type": "code",
   "execution_count": 48,
   "metadata": {},
   "outputs": [],
   "source": [
    "from sklearn.ensemble import GradientBoostingClassifier\n",
    "from sklearn.model_selection import cross_val_score\n",
    "from sklearn import metrics\n",
    "from sklearn.model_selection import GridSearchCV\n",
    "\n",
    "import matplotlib.pylab as plt\n",
    "%matplotlib inline"
   ]
  },
  {
   "cell_type": "markdown",
   "metadata": {},
   "source": [
    "### matching"
   ]
  },
  {
   "cell_type": "code",
   "execution_count": 49,
   "metadata": {},
   "outputs": [
    {
     "data": {
      "text/plain": [
       "GradientBoostingClassifier(criterion='friedman_mse', init=None,\n",
       "              learning_rate=0.1, loss='deviance', max_depth=3,\n",
       "              max_features=None, max_leaf_nodes=None,\n",
       "              min_impurity_decrease=0.0, min_impurity_split=None,\n",
       "              min_samples_leaf=1, min_samples_split=2,\n",
       "              min_weight_fraction_leaf=0.0, n_estimators=100,\n",
       "              n_iter_no_change=None, presort='auto', random_state=10,\n",
       "              subsample=1.0, tol=0.0001, validation_fraction=0.1,\n",
       "              verbose=0, warm_start=False)"
      ]
     },
     "execution_count": 49,
     "metadata": {},
     "output_type": "execute_result"
    }
   ],
   "source": [
    "gbm0 = GradientBoostingClassifier(random_state=10)\n",
    "gbm0.fit(X_new, train_y)"
   ]
  },
  {
   "cell_type": "code",
   "execution_count": 50,
   "metadata": {},
   "outputs": [
    {
     "name": "stdout",
     "output_type": "stream",
     "text": [
      "0.9957222222222222\n"
     ]
    }
   ],
   "source": [
    "gbm_predict = gbm0.predict(test_X_new)\n",
    "print(accuracy_score(gbm_predict, test_y))"
   ]
  },
  {
   "cell_type": "markdown",
   "metadata": {},
   "source": [
    "### adapting"
   ]
  },
  {
   "cell_type": "code",
   "execution_count": 51,
   "metadata": {},
   "outputs": [
    {
     "data": {
      "text/plain": [
       "GridSearchCV(cv=5, error_score='raise-deprecating',\n",
       "       estimator=GradientBoostingClassifier(criterion='friedman_mse', init=None,\n",
       "              learning_rate=0.1, loss='deviance', max_depth=8,\n",
       "              max_features='sqrt', max_leaf_nodes=None,\n",
       "              min_impurity_decrease=0.0, min_impurity_split=None,\n",
       "              min_samples_leaf=20, min_sa...      subsample=0.8, tol=0.0001, validation_fraction=0.1,\n",
       "              verbose=0, warm_start=False),\n",
       "       fit_params=None, iid=False, n_jobs=None,\n",
       "       param_grid={'n_estimators': range(20, 81, 10)},\n",
       "       pre_dispatch='2*n_jobs', refit=True, return_train_score='warn',\n",
       "       scoring='roc_auc', verbose=0)"
      ]
     },
     "execution_count": 51,
     "metadata": {},
     "output_type": "execute_result"
    }
   ],
   "source": [
    "# 步长(learning rate)和迭代次数(n_estimators)\n",
    "param_test1 = {'n_estimators':range(20,81,10)}\n",
    "gsearch1 = GridSearchCV(estimator = GradientBoostingClassifier(\n",
    "    learning_rate=0.1, \n",
    "    min_samples_split=300,\n",
    "    min_samples_leaf=20,\n",
    "    max_depth=8,\n",
    "    max_features='sqrt', \n",
    "    subsample=0.8,\n",
    "    random_state=10), \n",
    "param_grid = param_test1, scoring='roc_auc',iid=False,cv=5)\n",
    "gsearch1.fit(X_new,train_y)"
   ]
  },
  {
   "cell_type": "code",
   "execution_count": 52,
   "metadata": {},
   "outputs": [
    {
     "name": "stderr",
     "output_type": "stream",
     "text": [
      "D:\\Anaconda\\install\\lib\\site-packages\\sklearn\\utils\\deprecation.py:125: FutureWarning: You are accessing a training score ('split0_train_score'), which will not be available by default any more in 0.21. If you need training scores, please set return_train_score=True\n",
      "  warnings.warn(*warn_args, **warn_kwargs)\n",
      "D:\\Anaconda\\install\\lib\\site-packages\\sklearn\\utils\\deprecation.py:125: FutureWarning: You are accessing a training score ('split1_train_score'), which will not be available by default any more in 0.21. If you need training scores, please set return_train_score=True\n",
      "  warnings.warn(*warn_args, **warn_kwargs)\n",
      "D:\\Anaconda\\install\\lib\\site-packages\\sklearn\\utils\\deprecation.py:125: FutureWarning: You are accessing a training score ('split2_train_score'), which will not be available by default any more in 0.21. If you need training scores, please set return_train_score=True\n",
      "  warnings.warn(*warn_args, **warn_kwargs)\n",
      "D:\\Anaconda\\install\\lib\\site-packages\\sklearn\\utils\\deprecation.py:125: FutureWarning: You are accessing a training score ('split3_train_score'), which will not be available by default any more in 0.21. If you need training scores, please set return_train_score=True\n",
      "  warnings.warn(*warn_args, **warn_kwargs)\n",
      "D:\\Anaconda\\install\\lib\\site-packages\\sklearn\\utils\\deprecation.py:125: FutureWarning: You are accessing a training score ('split4_train_score'), which will not be available by default any more in 0.21. If you need training scores, please set return_train_score=True\n",
      "  warnings.warn(*warn_args, **warn_kwargs)\n",
      "D:\\Anaconda\\install\\lib\\site-packages\\sklearn\\utils\\deprecation.py:125: FutureWarning: You are accessing a training score ('mean_train_score'), which will not be available by default any more in 0.21. If you need training scores, please set return_train_score=True\n",
      "  warnings.warn(*warn_args, **warn_kwargs)\n",
      "D:\\Anaconda\\install\\lib\\site-packages\\sklearn\\utils\\deprecation.py:125: FutureWarning: You are accessing a training score ('std_train_score'), which will not be available by default any more in 0.21. If you need training scores, please set return_train_score=True\n",
      "  warnings.warn(*warn_args, **warn_kwargs)\n"
     ]
    },
    {
     "data": {
      "text/plain": [
       "({'mean_fit_time': array([ 4.358741  ,  6.93688679,  8.95388484, 10.8306365 , 12.6355412 ,\n",
       "         13.73697839, 15.37028689]),\n",
       "  'std_fit_time': array([0.24748577, 0.32585169, 0.30424309, 0.3178031 , 0.43785209,\n",
       "         0.41203316, 0.16170451]),\n",
       "  'mean_score_time': array([0.04823494, 0.06865683, 0.0884645 , 0.10067286, 0.11768489,\n",
       "         0.13009386, 0.13669858]),\n",
       "  'std_score_time': array([0.0021378 , 0.00423454, 0.00589026, 0.00403248, 0.00695108,\n",
       "         0.00385075, 0.00615505]),\n",
       "  'param_n_estimators': masked_array(data=[20, 30, 40, 50, 60, 70, 80],\n",
       "               mask=[False, False, False, False, False, False, False],\n",
       "         fill_value='?',\n",
       "              dtype=object),\n",
       "  'params': [{'n_estimators': 20},\n",
       "   {'n_estimators': 30},\n",
       "   {'n_estimators': 40},\n",
       "   {'n_estimators': 50},\n",
       "   {'n_estimators': 60},\n",
       "   {'n_estimators': 70},\n",
       "   {'n_estimators': 80}],\n",
       "  'split0_test_score': array([0.99944974, 0.99946696, 0.99947648, 0.99946812, 0.99946882,\n",
       "         0.99945214, 0.99945221]),\n",
       "  'split1_test_score': array([0.99951421, 0.99947735, 0.99952308, 0.99952246, 0.99949293,\n",
       "         0.99946691, 0.99943554]),\n",
       "  'split2_test_score': array([0.99959949, 0.99960036, 0.99959457, 0.99962525, 0.99960412,\n",
       "         0.99960512, 0.99959277]),\n",
       "  'split3_test_score': array([0.99948907, 0.99948804, 0.99949744, 0.99949077, 0.99947981,\n",
       "         0.99948214, 0.99946311]),\n",
       "  'split4_test_score': array([0.99942889, 0.99943682, 0.99943941, 0.9994342 , 0.99944416,\n",
       "         0.99943628, 0.9994138 ]),\n",
       "  'mean_test_score': array([0.99949628, 0.99949391, 0.99950619, 0.99950816, 0.99949797,\n",
       "         0.99948852, 0.99947149]),\n",
       "  'std_test_score': array([5.95545734e-05, 5.59026251e-05, 5.19903959e-05, 6.52529809e-05,\n",
       "         5.54392996e-05, 6.02594054e-05, 6.28821371e-05]),\n",
       "  'rank_test_score': array([4, 5, 2, 1, 3, 6, 7]),\n",
       "  'split0_train_score': array([0.99955769, 0.99956357, 0.99956696, 0.99957589, 0.99958166,\n",
       "         0.99958881, 0.99959263]),\n",
       "  'split1_train_score': array([0.99953295, 0.99955211, 0.99955714, 0.99956344, 0.99957069,\n",
       "         0.99958037, 0.99958623]),\n",
       "  'split2_train_score': array([0.99951956, 0.99953302, 0.99953227, 0.99953602, 0.99954389,\n",
       "         0.99954835, 0.9995536 ]),\n",
       "  'split3_train_score': array([0.99953963, 0.9995477 , 0.99955407, 0.99956073, 0.9995674 ,\n",
       "         0.99957118, 0.99957753]),\n",
       "  'split4_train_score': array([0.99955493, 0.9995613 , 0.99956745, 0.99957752, 0.99958046,\n",
       "         0.9995872 , 0.99959487]),\n",
       "  'mean_train_score': array([0.99954095, 0.99955154, 0.99955558, 0.99956272, 0.99956882,\n",
       "         0.99957518, 0.99958097]),\n",
       "  'std_train_score': array([1.41335427e-05, 1.09340689e-05, 1.27950680e-05, 1.49018962e-05,\n",
       "         1.36190214e-05, 1.47839515e-05, 1.49535546e-05])},\n",
       " {'n_estimators': 50},\n",
       " 0.9995081595764302)"
      ]
     },
     "execution_count": 52,
     "metadata": {},
     "output_type": "execute_result"
    }
   ],
   "source": [
    "gsearch1.cv_results_, gsearch1.best_params_, gsearch1.best_score_"
   ]
  },
  {
   "cell_type": "code",
   "execution_count": null,
   "metadata": {},
   "outputs": [],
   "source": [
    "# 'n_estimators': 50"
   ]
  },
  {
   "cell_type": "code",
   "execution_count": null,
   "metadata": {},
   "outputs": [],
   "source": []
  },
  {
   "cell_type": "code",
   "execution_count": 54,
   "metadata": {},
   "outputs": [
    {
     "data": {
      "text/plain": [
       "GridSearchCV(cv=5, error_score='raise-deprecating',\n",
       "       estimator=GradientBoostingClassifier(criterion='friedman_mse', init=None,\n",
       "              learning_rate=0.1, loss='deviance', max_depth=3,\n",
       "              max_features='sqrt', max_leaf_nodes=None,\n",
       "              min_impurity_decrease=0.0, min_impurity_split=None,\n",
       "              min_samples_leaf=20, min_sa...      subsample=0.8, tol=0.0001, validation_fraction=0.1,\n",
       "              verbose=0, warm_start=False),\n",
       "       fit_params=None, iid=False, n_jobs=None,\n",
       "       param_grid={'max_depth': range(5, 11, 2), 'min_samples_split': range(10, 101, 20)},\n",
       "       pre_dispatch='2*n_jobs', refit=True, return_train_score='warn',\n",
       "       scoring='roc_auc', verbose=0)"
      ]
     },
     "execution_count": 54,
     "metadata": {},
     "output_type": "execute_result"
    }
   ],
   "source": [
    "# max_depth和min_samples_split\n",
    "param_test2 = {'max_depth':range(3,11,2), \n",
    "               'min_samples_split':range(5,21,3)}\n",
    "gsearch2 = GridSearchCV(estimator = GradientBoostingClassifier(\n",
    "    learning_rate=0.1, \n",
    "    n_estimators=60, \n",
    "    min_samples_leaf=20, \n",
    "    max_features='sqrt', \n",
    "    subsample=0.8, \n",
    "    random_state=10), \n",
    "param_grid = param_test2, scoring='roc_auc',iid=False, cv=5)\n",
    "gsearch2.fit(X_new,train_y)"
   ]
  },
  {
   "cell_type": "code",
   "execution_count": 55,
   "metadata": {},
   "outputs": [
    {
     "name": "stderr",
     "output_type": "stream",
     "text": [
      "D:\\Anaconda\\install\\lib\\site-packages\\sklearn\\utils\\deprecation.py:125: FutureWarning: You are accessing a training score ('split0_train_score'), which will not be available by default any more in 0.21. If you need training scores, please set return_train_score=True\n",
      "  warnings.warn(*warn_args, **warn_kwargs)\n",
      "D:\\Anaconda\\install\\lib\\site-packages\\sklearn\\utils\\deprecation.py:125: FutureWarning: You are accessing a training score ('split1_train_score'), which will not be available by default any more in 0.21. If you need training scores, please set return_train_score=True\n",
      "  warnings.warn(*warn_args, **warn_kwargs)\n",
      "D:\\Anaconda\\install\\lib\\site-packages\\sklearn\\utils\\deprecation.py:125: FutureWarning: You are accessing a training score ('split2_train_score'), which will not be available by default any more in 0.21. If you need training scores, please set return_train_score=True\n",
      "  warnings.warn(*warn_args, **warn_kwargs)\n",
      "D:\\Anaconda\\install\\lib\\site-packages\\sklearn\\utils\\deprecation.py:125: FutureWarning: You are accessing a training score ('split3_train_score'), which will not be available by default any more in 0.21. If you need training scores, please set return_train_score=True\n",
      "  warnings.warn(*warn_args, **warn_kwargs)\n",
      "D:\\Anaconda\\install\\lib\\site-packages\\sklearn\\utils\\deprecation.py:125: FutureWarning: You are accessing a training score ('split4_train_score'), which will not be available by default any more in 0.21. If you need training scores, please set return_train_score=True\n",
      "  warnings.warn(*warn_args, **warn_kwargs)\n",
      "D:\\Anaconda\\install\\lib\\site-packages\\sklearn\\utils\\deprecation.py:125: FutureWarning: You are accessing a training score ('mean_train_score'), which will not be available by default any more in 0.21. If you need training scores, please set return_train_score=True\n",
      "  warnings.warn(*warn_args, **warn_kwargs)\n",
      "D:\\Anaconda\\install\\lib\\site-packages\\sklearn\\utils\\deprecation.py:125: FutureWarning: You are accessing a training score ('std_train_score'), which will not be available by default any more in 0.21. If you need training scores, please set return_train_score=True\n",
      "  warnings.warn(*warn_args, **warn_kwargs)\n"
     ]
    },
    {
     "data": {
      "text/plain": [
       "({'mean_fit_time': array([ 9.04895172,  9.08649316,  8.65672936,  9.31379056,  9.1121151 ,\n",
       "         11.86969857, 11.91869721, 11.31046348, 11.59165564, 11.43051066,\n",
       "         15.46212687, 15.52702885, 15.09704871, 14.67758851, 14.82068086]),\n",
       "  'std_fit_time': array([0.76377392, 0.76657051, 0.12296478, 0.9128356 , 0.21404454,\n",
       "         0.90654399, 0.68222452, 0.41032738, 0.40530391, 0.33649583,\n",
       "         0.80638798, 0.35113152, 0.54572749, 0.74851858, 0.37376082]),\n",
       "  'mean_score_time': array([0.09466801, 0.08225927, 0.09327164, 0.09126544, 0.08619986,\n",
       "         0.10407605, 0.11376152, 0.10728116, 0.10327373, 0.1144824 ,\n",
       "         0.12649374, 0.11648417, 0.1224875 , 0.12789159, 0.11888576]),\n",
       "  'std_score_time': array([0.00940054, 0.00240188, 0.01198254, 0.00928908, 0.00645841,\n",
       "         0.00740852, 0.0134478 , 0.00292812, 0.00891402, 0.01328483,\n",
       "         0.01115572, 0.00500745, 0.01100993, 0.01568836, 0.0031895 ]),\n",
       "  'param_max_depth': masked_array(data=[5, 5, 5, 5, 5, 7, 7, 7, 7, 7, 9, 9, 9, 9, 9],\n",
       "               mask=[False, False, False, False, False, False, False, False,\n",
       "                     False, False, False, False, False, False, False],\n",
       "         fill_value='?',\n",
       "              dtype=object),\n",
       "  'param_min_samples_split': masked_array(data=[10, 30, 50, 70, 90, 10, 30, 50, 70, 90, 10, 30, 50, 70,\n",
       "                     90],\n",
       "               mask=[False, False, False, False, False, False, False, False,\n",
       "                     False, False, False, False, False, False, False],\n",
       "         fill_value='?',\n",
       "              dtype=object),\n",
       "  'params': [{'max_depth': 5, 'min_samples_split': 10},\n",
       "   {'max_depth': 5, 'min_samples_split': 30},\n",
       "   {'max_depth': 5, 'min_samples_split': 50},\n",
       "   {'max_depth': 5, 'min_samples_split': 70},\n",
       "   {'max_depth': 5, 'min_samples_split': 90},\n",
       "   {'max_depth': 7, 'min_samples_split': 10},\n",
       "   {'max_depth': 7, 'min_samples_split': 30},\n",
       "   {'max_depth': 7, 'min_samples_split': 50},\n",
       "   {'max_depth': 7, 'min_samples_split': 70},\n",
       "   {'max_depth': 7, 'min_samples_split': 90},\n",
       "   {'max_depth': 9, 'min_samples_split': 10},\n",
       "   {'max_depth': 9, 'min_samples_split': 30},\n",
       "   {'max_depth': 9, 'min_samples_split': 50},\n",
       "   {'max_depth': 9, 'min_samples_split': 70},\n",
       "   {'max_depth': 9, 'min_samples_split': 90}],\n",
       "  'split0_test_score': array([0.99947958, 0.99947958, 0.99947912, 0.99946477, 0.99947847,\n",
       "         0.9994642 , 0.9994642 , 0.99945932, 0.99947031, 0.99946833,\n",
       "         0.99943454, 0.99943454, 0.99941444, 0.99944098, 0.99944092]),\n",
       "  'split1_test_score': array([0.99954562, 0.99954562, 0.99953464, 0.99953125, 0.99954114,\n",
       "         0.99950751, 0.99950751, 0.99949247, 0.99948814, 0.99949079,\n",
       "         0.99942888, 0.99942888, 0.99943743, 0.99942631, 0.99942261]),\n",
       "  'split2_test_score': array([0.99960465, 0.99960465, 0.99960806, 0.99960155, 0.99960121,\n",
       "         0.99960143, 0.99960143, 0.9996058 , 0.99960498, 0.99961417,\n",
       "         0.9995786 , 0.9995786 , 0.99957385, 0.99958086, 0.99957496]),\n",
       "  'split3_test_score': array([0.99948411, 0.99948411, 0.99948601, 0.99947985, 0.99948608,\n",
       "         0.99950473, 0.99950473, 0.99950049, 0.9994791 , 0.99948664,\n",
       "         0.99942412, 0.99942412, 0.99942022, 0.99944031, 0.99942412]),\n",
       "  'split4_test_score': array([0.99944852, 0.99944852, 0.99943703, 0.99944503, 0.99945106,\n",
       "         0.99944557, 0.99944557, 0.99944103, 0.99943733, 0.99943813,\n",
       "         0.99939754, 0.99939754, 0.999404  , 0.99941564, 0.9994048 ]),\n",
       "  'mean_test_score': array([0.9995125 , 0.9995125 , 0.99950897, 0.99950449, 0.99951159,\n",
       "         0.99950469, 0.99950469, 0.99949982, 0.99949597, 0.99949961,\n",
       "         0.99945273, 0.99945273, 0.99944999, 0.99946082, 0.99945348]),\n",
       "  'std_test_score': array([5.58055917e-05, 5.58055917e-05, 5.84303816e-05, 5.63145959e-05,\n",
       "         5.35090448e-05, 5.38527150e-05, 5.38527150e-05, 5.72411920e-05,\n",
       "         5.71423934e-05, 6.02152520e-05, 6.41993941e-05, 6.41993941e-05,\n",
       "         6.28724216e-05, 6.07553824e-05, 6.18062199e-05]),\n",
       "  'rank_test_score': array([ 1,  1,  4,  7,  3,  5,  5,  8, 10,  9, 13, 13, 15, 11, 12]),\n",
       "  'split0_train_score': array([0.99952993, 0.99952993, 0.99953267, 0.99953718, 0.99954164,\n",
       "         0.99957296, 0.99957296, 0.99957195, 0.99956968, 0.9995746 ,\n",
       "         0.99959889, 0.99959889, 0.99959962, 0.999598  , 0.99959804]),\n",
       "  'split1_train_score': array([0.99952914, 0.99952914, 0.9995333 , 0.99952448, 0.99952483,\n",
       "         0.99956458, 0.99956458, 0.99956579, 0.99956491, 0.99956568,\n",
       "         0.99959213, 0.99959213, 0.9995922 , 0.99959262, 0.99959185]),\n",
       "  'split2_train_score': array([0.99950229, 0.99950229, 0.99950404, 0.99949534, 0.99950435,\n",
       "         0.99952785, 0.99952785, 0.99953182, 0.99952945, 0.99952672,\n",
       "         0.99956028, 0.99956028, 0.99956183, 0.99955969, 0.99956009]),\n",
       "  'split3_train_score': array([0.99952544, 0.99952544, 0.99952583, 0.99952795, 0.9995262 ,\n",
       "         0.99955531, 0.99955531, 0.99955512, 0.99955873, 0.99955468,\n",
       "         0.99958244, 0.99958244, 0.9995812 , 0.99957951, 0.9995817 ]),\n",
       "  'split4_train_score': array([0.99954211, 0.99954211, 0.99954014, 0.99953612, 0.9995394 ,\n",
       "         0.99956796, 0.99956796, 0.99957049, 0.99956816, 0.99957316,\n",
       "         0.99960049, 0.99960049, 0.99960061, 0.99959907, 0.99959818]),\n",
       "  'mean_train_score': array([0.99952578, 0.99952578, 0.9995272 , 0.99952421, 0.99952728,\n",
       "         0.99955773, 0.99955773, 0.99955903, 0.99955819, 0.99955897,\n",
       "         0.99958685, 0.99958685, 0.99958709, 0.99958578, 0.99958597]),\n",
       "  'std_train_score': array([1.30154779e-05, 1.30154779e-05, 1.24325284e-05, 1.52154375e-05,\n",
       "         1.33119451e-05, 1.60141322e-05, 1.60141322e-05, 1.48281331e-05,\n",
       "         1.48496296e-05, 1.75999711e-05, 1.47258200e-05, 1.47258200e-05,\n",
       "         1.44103322e-05, 1.47860295e-05, 1.42664739e-05])},\n",
       " {'max_depth': 5, 'min_samples_split': 10},\n",
       " 0.999512497311219)"
      ]
     },
     "execution_count": 55,
     "metadata": {},
     "output_type": "execute_result"
    }
   ],
   "source": [
    "gsearch2.cv_results_, gsearch2.best_params_, gsearch2.best_score_"
   ]
  },
  {
   "cell_type": "code",
   "execution_count": null,
   "metadata": {},
   "outputs": [],
   "source": [
    "# 'max_depth': 5, 'min_samples_split': 10"
   ]
  },
  {
   "cell_type": "code",
   "execution_count": null,
   "metadata": {},
   "outputs": [],
   "source": []
  },
  {
   "cell_type": "code",
   "execution_count": 57,
   "metadata": {},
   "outputs": [
    {
     "data": {
      "text/plain": [
       "GridSearchCV(cv=5, error_score='raise-deprecating',\n",
       "       estimator=GradientBoostingClassifier(criterion='friedman_mse', init=None,\n",
       "              learning_rate=0.1, loss='deviance', max_depth=7,\n",
       "              max_features='sqrt', max_leaf_nodes=None,\n",
       "              min_impurity_decrease=0.0, min_impurity_split=None,\n",
       "              min_samples_leaf=1, min_sam...      subsample=0.8, tol=0.0001, validation_fraction=0.1,\n",
       "              verbose=0, warm_start=False),\n",
       "       fit_params=None, iid=False, n_jobs=None,\n",
       "       param_grid={'min_samples_split': range(10, 101, 20), 'min_samples_leaf': range(10, 101, 20)},\n",
       "       pre_dispatch='2*n_jobs', refit=True, return_train_score='warn',\n",
       "       scoring='roc_auc', verbose=0)"
      ]
     },
     "execution_count": 57,
     "metadata": {},
     "output_type": "execute_result"
    }
   ],
   "source": [
    "# min_samples_split和min_samples_leaf\n",
    "param_test3 = {'min_samples_split':range(10,101,20), \n",
    "               'min_samples_leaf':range(10,101,20)}\n",
    "gsearch3 = GridSearchCV(estimator = GradientBoostingClassifier(\n",
    "    learning_rate=0.1, \n",
    "    n_estimators=60,\n",
    "    max_depth=7,\n",
    "    max_features='sqrt', \n",
    "    subsample=0.8, \n",
    "    random_state=10), \n",
    "param_grid = param_test3, scoring='roc_auc',iid=False, cv=5)\n",
    "gsearch3.fit(X_new,train_y)"
   ]
  },
  {
   "cell_type": "code",
   "execution_count": 58,
   "metadata": {},
   "outputs": [
    {
     "name": "stderr",
     "output_type": "stream",
     "text": [
      "D:\\Anaconda\\install\\lib\\site-packages\\sklearn\\utils\\deprecation.py:125: FutureWarning: You are accessing a training score ('split0_train_score'), which will not be available by default any more in 0.21. If you need training scores, please set return_train_score=True\n",
      "  warnings.warn(*warn_args, **warn_kwargs)\n",
      "D:\\Anaconda\\install\\lib\\site-packages\\sklearn\\utils\\deprecation.py:125: FutureWarning: You are accessing a training score ('split1_train_score'), which will not be available by default any more in 0.21. If you need training scores, please set return_train_score=True\n",
      "  warnings.warn(*warn_args, **warn_kwargs)\n",
      "D:\\Anaconda\\install\\lib\\site-packages\\sklearn\\utils\\deprecation.py:125: FutureWarning: You are accessing a training score ('split2_train_score'), which will not be available by default any more in 0.21. If you need training scores, please set return_train_score=True\n",
      "  warnings.warn(*warn_args, **warn_kwargs)\n",
      "D:\\Anaconda\\install\\lib\\site-packages\\sklearn\\utils\\deprecation.py:125: FutureWarning: You are accessing a training score ('split3_train_score'), which will not be available by default any more in 0.21. If you need training scores, please set return_train_score=True\n",
      "  warnings.warn(*warn_args, **warn_kwargs)\n",
      "D:\\Anaconda\\install\\lib\\site-packages\\sklearn\\utils\\deprecation.py:125: FutureWarning: You are accessing a training score ('split4_train_score'), which will not be available by default any more in 0.21. If you need training scores, please set return_train_score=True\n",
      "  warnings.warn(*warn_args, **warn_kwargs)\n",
      "D:\\Anaconda\\install\\lib\\site-packages\\sklearn\\utils\\deprecation.py:125: FutureWarning: You are accessing a training score ('mean_train_score'), which will not be available by default any more in 0.21. If you need training scores, please set return_train_score=True\n",
      "  warnings.warn(*warn_args, **warn_kwargs)\n",
      "D:\\Anaconda\\install\\lib\\site-packages\\sklearn\\utils\\deprecation.py:125: FutureWarning: You are accessing a training score ('std_train_score'), which will not be available by default any more in 0.21. If you need training scores, please set return_train_score=True\n",
      "  warnings.warn(*warn_args, **warn_kwargs)\n"
     ]
    },
    {
     "data": {
      "text/plain": [
       "({'mean_fit_time': array([11.16550465, 10.90639195, 10.75821609, 10.7023767 , 10.67936087,\n",
       "         10.71338596, 10.73480105, 10.78683715, 10.53946209, 10.63392558,\n",
       "         10.61591249, 10.67264199, 10.69096889, 10.65713778, 10.59129124,\n",
       "         10.66402278, 10.63152647, 10.61670947, 10.66313863, 10.61030464,\n",
       "         10.50283599, 10.49082398, 10.43958488, 10.71663504, 10.32483249]),\n",
       "  'std_fit_time': array([0.21169001, 0.27971752, 0.26935297, 0.3227956 , 0.29711346,\n",
       "         0.14781354, 0.14379762, 0.12937096, 0.30105891, 0.2696234 ,\n",
       "         0.12087571, 0.13442665, 0.23058649, 0.19797884, 0.17405035,\n",
       "         0.17624167, 0.13305607, 0.12474601, 0.17168817, 0.11212271,\n",
       "         0.13096405, 0.21684752, 0.14564345, 0.43003954, 0.15319588]),\n",
       "  'mean_score_time': array([0.10367527, 0.10127344, 0.10507636, 0.11128078, 0.10047193,\n",
       "         0.10547557, 0.102074  , 0.10147319, 0.10007186, 0.11087952,\n",
       "         0.10487566, 0.10387487, 0.10687737, 0.10567989, 0.10427885,\n",
       "         0.10587687, 0.10247412, 0.11288128, 0.10787778, 0.10547938,\n",
       "         0.10287418, 0.11147995, 0.11087995, 0.10967903, 0.10127263]),\n",
       "  'std_score_time': array([0.0017455 , 0.00292836, 0.00460698, 0.01559775, 0.00326464,\n",
       "         0.00831486, 0.00352432, 0.0032643 , 0.00322752, 0.01188099,\n",
       "         0.00331315, 0.00453767, 0.00630933, 0.00398107, 0.00213669,\n",
       "         0.00676896, 0.00249982, 0.01760137, 0.01042656, 0.00505167,\n",
       "         0.00222869, 0.00896383, 0.01061657, 0.0059577 , 0.00292806]),\n",
       "  'param_min_samples_leaf': masked_array(data=[10, 10, 10, 10, 10, 30, 30, 30, 30, 30, 50, 50, 50, 50,\n",
       "                     50, 70, 70, 70, 70, 70, 90, 90, 90, 90, 90],\n",
       "               mask=[False, False, False, False, False, False, False, False,\n",
       "                     False, False, False, False, False, False, False, False,\n",
       "                     False, False, False, False, False, False, False, False,\n",
       "                     False],\n",
       "         fill_value='?',\n",
       "              dtype=object),\n",
       "  'param_min_samples_split': masked_array(data=[10, 30, 50, 70, 90, 10, 30, 50, 70, 90, 10, 30, 50, 70,\n",
       "                     90, 10, 30, 50, 70, 90, 10, 30, 50, 70, 90],\n",
       "               mask=[False, False, False, False, False, False, False, False,\n",
       "                     False, False, False, False, False, False, False, False,\n",
       "                     False, False, False, False, False, False, False, False,\n",
       "                     False],\n",
       "         fill_value='?',\n",
       "              dtype=object),\n",
       "  'params': [{'min_samples_leaf': 10, 'min_samples_split': 10},\n",
       "   {'min_samples_leaf': 10, 'min_samples_split': 30},\n",
       "   {'min_samples_leaf': 10, 'min_samples_split': 50},\n",
       "   {'min_samples_leaf': 10, 'min_samples_split': 70},\n",
       "   {'min_samples_leaf': 10, 'min_samples_split': 90},\n",
       "   {'min_samples_leaf': 30, 'min_samples_split': 10},\n",
       "   {'min_samples_leaf': 30, 'min_samples_split': 30},\n",
       "   {'min_samples_leaf': 30, 'min_samples_split': 50},\n",
       "   {'min_samples_leaf': 30, 'min_samples_split': 70},\n",
       "   {'min_samples_leaf': 30, 'min_samples_split': 90},\n",
       "   {'min_samples_leaf': 50, 'min_samples_split': 10},\n",
       "   {'min_samples_leaf': 50, 'min_samples_split': 30},\n",
       "   {'min_samples_leaf': 50, 'min_samples_split': 50},\n",
       "   {'min_samples_leaf': 50, 'min_samples_split': 70},\n",
       "   {'min_samples_leaf': 50, 'min_samples_split': 90},\n",
       "   {'min_samples_leaf': 70, 'min_samples_split': 10},\n",
       "   {'min_samples_leaf': 70, 'min_samples_split': 30},\n",
       "   {'min_samples_leaf': 70, 'min_samples_split': 50},\n",
       "   {'min_samples_leaf': 70, 'min_samples_split': 70},\n",
       "   {'min_samples_leaf': 70, 'min_samples_split': 90},\n",
       "   {'min_samples_leaf': 90, 'min_samples_split': 10},\n",
       "   {'min_samples_leaf': 90, 'min_samples_split': 30},\n",
       "   {'min_samples_leaf': 90, 'min_samples_split': 50},\n",
       "   {'min_samples_leaf': 90, 'min_samples_split': 70},\n",
       "   {'min_samples_leaf': 90, 'min_samples_split': 90}],\n",
       "  'split0_test_score': array([0.99947237, 0.99946576, 0.99946066, 0.99946981, 0.99947428,\n",
       "         0.9994635 , 0.9994635 , 0.9994635 , 0.99946588, 0.99945933,\n",
       "         0.99947062, 0.99947062, 0.99947062, 0.99947062, 0.99947062,\n",
       "         0.99946388, 0.99946388, 0.99946388, 0.99946388, 0.99946388,\n",
       "         0.99946897, 0.99946897, 0.99946897, 0.99946897, 0.99946897]),\n",
       "  'split1_test_score': array([0.99949917, 0.9995017 , 0.99948817, 0.99949779, 0.99947977,\n",
       "         0.99946541, 0.99946541, 0.99946541, 0.99948582, 0.99948435,\n",
       "         0.9994947 , 0.9994947 , 0.9994947 , 0.9994947 , 0.9994947 ,\n",
       "         0.99948547, 0.99948547, 0.99948547, 0.99948547, 0.99948547,\n",
       "         0.99950223, 0.99950223, 0.99950223, 0.99950223, 0.99950223]),\n",
       "  'split2_test_score': array([0.99961256, 0.9995866 , 0.99958864, 0.9996052 , 0.99959928,\n",
       "         0.99958285, 0.99958285, 0.99958285, 0.99959116, 0.99960215,\n",
       "         0.99959164, 0.99959164, 0.99959164, 0.99959164, 0.99959164,\n",
       "         0.99961206, 0.99961206, 0.99961206, 0.99961206, 0.99961206,\n",
       "         0.99961532, 0.99961532, 0.99961532, 0.99961532, 0.99961532]),\n",
       "  'split3_test_score': array([0.99948048, 0.9994939 , 0.99948598, 0.99947611, 0.99949026,\n",
       "         0.9994941 , 0.9994941 , 0.9994941 , 0.99949474, 0.99948243,\n",
       "         0.99949843, 0.99949843, 0.99949843, 0.99949843, 0.99949843,\n",
       "         0.99950316, 0.99950316, 0.99950316, 0.99950316, 0.99950316,\n",
       "         0.99949886, 0.99949886, 0.99949886, 0.99949886, 0.99949886]),\n",
       "  'split4_test_score': array([0.99943968, 0.99943207, 0.99944459, 0.99942507, 0.99943778,\n",
       "         0.99943262, 0.99943262, 0.99943262, 0.99943606, 0.99943348,\n",
       "         0.99944606, 0.99944606, 0.99944606, 0.99944606, 0.99944606,\n",
       "         0.99943337, 0.99943337, 0.99943337, 0.99943337, 0.99943337,\n",
       "         0.99944151, 0.99944151, 0.99944151, 0.99944151, 0.99944151]),\n",
       "  'mean_test_score': array([0.99950085, 0.999496  , 0.99949361, 0.9994948 , 0.99949627,\n",
       "         0.99948769, 0.99948769, 0.99948769, 0.99949473, 0.99949235,\n",
       "         0.99950029, 0.99950029, 0.99950029, 0.99950029, 0.99950029,\n",
       "         0.99949959, 0.99949959, 0.99949959, 0.99949959, 0.99949959,\n",
       "         0.99950538, 0.99950538, 0.99950538, 0.99950538, 0.99950538]),\n",
       "  'std_test_score': array([5.90745638e-05, 5.14710224e-05, 5.02115772e-05, 6.00551215e-05,\n",
       "         5.44479433e-05, 5.14031881e-05, 5.14031881e-05, 5.14031881e-05,\n",
       "         5.22549581e-05, 5.79234460e-05, 4.93964099e-05, 4.93964099e-05,\n",
       "         4.93964099e-05, 4.93964099e-05, 4.93964099e-05, 6.08635062e-05,\n",
       "         6.08635062e-05, 6.08635062e-05, 6.08635062e-05, 6.08635062e-05,\n",
       "         5.92378891e-05, 5.92378891e-05, 5.92378891e-05, 5.92378891e-05,\n",
       "         5.92378891e-05]),\n",
       "  'rank_test_score': array([ 6, 18, 21, 19, 17, 23, 23, 23, 20, 22,  7,  7,  7,  7,  7, 12, 12,\n",
       "         12, 12, 12,  1,  1,  1,  1,  1]),\n",
       "  'split0_train_score': array([0.99957452, 0.99957174, 0.99957375, 0.99957227, 0.9995681 ,\n",
       "         0.99956965, 0.99956965, 0.99956965, 0.99957172, 0.99957405,\n",
       "         0.99957169, 0.99957169, 0.99957169, 0.99957169, 0.99957169,\n",
       "         0.99956473, 0.99956473, 0.99956473, 0.99956473, 0.99956473,\n",
       "         0.99956533, 0.99956533, 0.99956533, 0.99956533, 0.99956533]),\n",
       "  'split1_train_score': array([0.9995652 , 0.99956232, 0.99956506, 0.99956539, 0.99956712,\n",
       "         0.99956725, 0.99956725, 0.99956725, 0.99956773, 0.99956576,\n",
       "         0.99955733, 0.99955733, 0.99955733, 0.99955733, 0.99955733,\n",
       "         0.99956605, 0.99956605, 0.99956605, 0.99956605, 0.99956605,\n",
       "         0.99955335, 0.99955335, 0.99955335, 0.99955335, 0.99955335]),\n",
       "  'split2_train_score': array([0.99953173, 0.99953937, 0.99953219, 0.99953568, 0.99953222,\n",
       "         0.99953303, 0.99953303, 0.99953303, 0.99953277, 0.9995329 ,\n",
       "         0.99952956, 0.99952956, 0.99952956, 0.99952956, 0.99952956,\n",
       "         0.99952774, 0.99952774, 0.99952774, 0.99952774, 0.99952774,\n",
       "         0.99952556, 0.99952556, 0.99952556, 0.99952556, 0.99952556]),\n",
       "  'split3_train_score': array([0.99955961, 0.99955485, 0.99955568, 0.99955542, 0.99956002,\n",
       "         0.99955387, 0.99955387, 0.99955387, 0.99955204, 0.99955653,\n",
       "         0.99954437, 0.99954437, 0.99954437, 0.99954437, 0.99954437,\n",
       "         0.99954904, 0.99954904, 0.99954904, 0.99954904, 0.99954904,\n",
       "         0.99955152, 0.99955152, 0.99955152, 0.99955152, 0.99955152]),\n",
       "  'split4_train_score': array([0.99957184, 0.99957175, 0.99957209, 0.99957202, 0.99957485,\n",
       "         0.99956948, 0.99956948, 0.99956948, 0.9995699 , 0.99957046,\n",
       "         0.99956821, 0.99956821, 0.99956821, 0.99956821, 0.99956821,\n",
       "         0.99956648, 0.99956648, 0.99956648, 0.99956648, 0.99956648,\n",
       "         0.9995662 , 0.9995662 , 0.9995662 , 0.9995662 , 0.9995662 ]),\n",
       "  'mean_train_score': array([0.99956058, 0.99956001, 0.99955975, 0.99956016, 0.99956046,\n",
       "         0.99955866, 0.99955866, 0.99955866, 0.99955883, 0.99955994,\n",
       "         0.99955423, 0.99955423, 0.99955423, 0.99955423, 0.99955423,\n",
       "         0.99955481, 0.99955481, 0.99955481, 0.99955481, 0.99955481,\n",
       "         0.99955239, 0.99955239, 0.99955239, 0.99955239, 0.99955239]),\n",
       "  'std_train_score': array([1.53345161e-05, 1.21127643e-05, 1.51844594e-05, 1.36872426e-05,\n",
       "         1.48819680e-05, 1.40833487e-05, 1.40833487e-05, 1.40833487e-05,\n",
       "         1.47844266e-05, 1.47405317e-05, 1.55942425e-05, 1.55942425e-05,\n",
       "         1.55942425e-05, 1.55942425e-05, 1.55942425e-05, 1.50118829e-05,\n",
       "         1.50118829e-05, 1.50118829e-05, 1.50118829e-05, 1.50118829e-05,\n",
       "         1.46950569e-05, 1.46950569e-05, 1.46950569e-05, 1.46950569e-05,\n",
       "         1.46950569e-05])},\n",
       " {'min_samples_leaf': 90, 'min_samples_split': 10},\n",
       " 0.9995053759517294)"
      ]
     },
     "execution_count": 58,
     "metadata": {},
     "output_type": "execute_result"
    }
   ],
   "source": [
    "gsearch3.cv_results_, gsearch3.best_params_, gsearch3.best_score_"
   ]
  },
  {
   "cell_type": "code",
   "execution_count": null,
   "metadata": {},
   "outputs": [],
   "source": [
    "# 'min_samples_leaf': 90, 'min_samples_split': 10"
   ]
  },
  {
   "cell_type": "code",
   "execution_count": null,
   "metadata": {},
   "outputs": [],
   "source": []
  },
  {
   "cell_type": "code",
   "execution_count": 59,
   "metadata": {},
   "outputs": [
    {
     "name": "stdout",
     "output_type": "stream",
     "text": [
      "Accuracy : 0.9957\n"
     ]
    }
   ],
   "source": [
    "# 先拟合一下，看看结果\n",
    "gbm1 = GradientBoostingClassifier(learning_rate=0.1, \n",
    "                                  n_estimators=50,\n",
    "                                  max_depth=5, \n",
    "                                  min_samples_leaf =90, \n",
    "                                  min_samples_split =10, \n",
    "                                  max_features='sqrt', \n",
    "                                  subsample=0.8, \n",
    "                                  random_state=10)\n",
    "gbm1.fit(X_new, train_y)\n",
    "y_pred = gbm1.predict(test_X_new)\n",
    "print(\"Accuracy : %.4g\" % metrics.accuracy_score(test_y, y_pred))"
   ]
  },
  {
   "cell_type": "code",
   "execution_count": null,
   "metadata": {},
   "outputs": [],
   "source": []
  },
  {
   "cell_type": "code",
   "execution_count": 64,
   "metadata": {},
   "outputs": [
    {
     "data": {
      "text/plain": [
       "GridSearchCV(cv=5, error_score='raise-deprecating',\n",
       "       estimator=GradientBoostingClassifier(criterion='friedman_mse', init=None,\n",
       "              learning_rate=0.1, loss='deviance', max_depth=7,\n",
       "              max_features=None, max_leaf_nodes=None,\n",
       "              min_impurity_decrease=0.0, min_impurity_split=None,\n",
       "              min_samples_leaf=90, min_samp...      subsample=0.8, tol=0.0001, validation_fraction=0.1,\n",
       "              verbose=0, warm_start=False),\n",
       "       fit_params=None, iid=False, n_jobs=None,\n",
       "       param_grid={'max_features': range(3, 10, 2)},\n",
       "       pre_dispatch='2*n_jobs', refit=True, return_train_score='warn',\n",
       "       scoring='roc_auc', verbose=0)"
      ]
     },
     "execution_count": 64,
     "metadata": {},
     "output_type": "execute_result"
    }
   ],
   "source": [
    "# 对最大特征数max_features进行网格搜索\n",
    "param_test4 = {'max_features':range(3,10,2)}\n",
    "gsearch4 = GridSearchCV(estimator = GradientBoostingClassifier(\n",
    "    learning_rate=0.1, \n",
    "    n_estimators=50,\n",
    "    max_depth=7, \n",
    "    min_samples_leaf =90, \n",
    "    min_samples_split =10, \n",
    "    subsample=0.8, \n",
    "    random_state=10), \n",
    "param_grid = param_test4, scoring='roc_auc',iid=False, cv=5)\n",
    "gsearch4.fit(X_new,train_y)"
   ]
  },
  {
   "cell_type": "code",
   "execution_count": 65,
   "metadata": {},
   "outputs": [
    {
     "name": "stderr",
     "output_type": "stream",
     "text": [
      "D:\\Anaconda\\install\\lib\\site-packages\\sklearn\\utils\\deprecation.py:125: FutureWarning: You are accessing a training score ('split0_train_score'), which will not be available by default any more in 0.21. If you need training scores, please set return_train_score=True\n",
      "  warnings.warn(*warn_args, **warn_kwargs)\n",
      "D:\\Anaconda\\install\\lib\\site-packages\\sklearn\\utils\\deprecation.py:125: FutureWarning: You are accessing a training score ('split1_train_score'), which will not be available by default any more in 0.21. If you need training scores, please set return_train_score=True\n",
      "  warnings.warn(*warn_args, **warn_kwargs)\n",
      "D:\\Anaconda\\install\\lib\\site-packages\\sklearn\\utils\\deprecation.py:125: FutureWarning: You are accessing a training score ('split2_train_score'), which will not be available by default any more in 0.21. If you need training scores, please set return_train_score=True\n",
      "  warnings.warn(*warn_args, **warn_kwargs)\n",
      "D:\\Anaconda\\install\\lib\\site-packages\\sklearn\\utils\\deprecation.py:125: FutureWarning: You are accessing a training score ('split3_train_score'), which will not be available by default any more in 0.21. If you need training scores, please set return_train_score=True\n",
      "  warnings.warn(*warn_args, **warn_kwargs)\n",
      "D:\\Anaconda\\install\\lib\\site-packages\\sklearn\\utils\\deprecation.py:125: FutureWarning: You are accessing a training score ('split4_train_score'), which will not be available by default any more in 0.21. If you need training scores, please set return_train_score=True\n",
      "  warnings.warn(*warn_args, **warn_kwargs)\n",
      "D:\\Anaconda\\install\\lib\\site-packages\\sklearn\\utils\\deprecation.py:125: FutureWarning: You are accessing a training score ('mean_train_score'), which will not be available by default any more in 0.21. If you need training scores, please set return_train_score=True\n",
      "  warnings.warn(*warn_args, **warn_kwargs)\n",
      "D:\\Anaconda\\install\\lib\\site-packages\\sklearn\\utils\\deprecation.py:125: FutureWarning: You are accessing a training score ('std_train_score'), which will not be available by default any more in 0.21. If you need training scores, please set return_train_score=True\n",
      "  warnings.warn(*warn_args, **warn_kwargs)\n"
     ]
    },
    {
     "data": {
      "text/plain": [
       "({'mean_fit_time': array([9.62074418, 8.03120537, 8.75163922, 8.78343496]),\n",
       "  'std_fit_time': array([0.57009488, 0.47005877, 0.59398091, 0.44577684]),\n",
       "  'mean_score_time': array([0.09146585, 0.06704903, 0.07505431, 0.05824232]),\n",
       "  'std_score_time': array([0.00634758, 0.00978417, 0.03421812, 0.0080164 ]),\n",
       "  'param_max_features': masked_array(data=[3, 5, 7, 9],\n",
       "               mask=[False, False, False, False],\n",
       "         fill_value='?',\n",
       "              dtype=object),\n",
       "  'params': [{'max_features': 3},\n",
       "   {'max_features': 5},\n",
       "   {'max_features': 7},\n",
       "   {'max_features': 9}],\n",
       "  'split0_test_score': array([0.99946515, 0.99946379, 0.99945864, 0.99946271]),\n",
       "  'split1_test_score': array([0.99953026, 0.99946821, 0.99945127, 0.99944732]),\n",
       "  'split2_test_score': array([0.9996133 , 0.99959496, 0.99960746, 0.99960044]),\n",
       "  'split3_test_score': array([0.99947271, 0.99950329, 0.99950767, 0.99949854]),\n",
       "  'split4_test_score': array([0.99943359, 0.99944619, 0.99944337, 0.99944777]),\n",
       "  'mean_test_score': array([0.999503  , 0.99949529, 0.99949368, 0.99949135]),\n",
       "  'std_test_score': array([6.33690364e-05, 5.31675049e-05, 6.11557192e-05, 5.76383335e-05]),\n",
       "  'rank_test_score': array([1, 2, 3, 4]),\n",
       "  'split0_train_score': array([0.99955929, 0.99956304, 0.99956545, 0.99956725]),\n",
       "  'split1_train_score': array([0.99953867, 0.99956353, 0.99956755, 0.99956507]),\n",
       "  'split2_train_score': array([0.99951851, 0.99952874, 0.99952613, 0.99952606]),\n",
       "  'split3_train_score': array([0.99954341, 0.99955139, 0.99954859, 0.9995511 ]),\n",
       "  'split4_train_score': array([0.99956116, 0.99957135, 0.9995674 , 0.99956591]),\n",
       "  'mean_train_score': array([0.99954421, 0.99955561, 0.99955503, 0.99955508]),\n",
       "  'std_train_score': array([1.55355560e-05, 1.48709393e-05, 1.60913636e-05, 1.56399352e-05])},\n",
       " {'max_features': 3},\n",
       " 0.9995030014697177)"
      ]
     },
     "execution_count": 65,
     "metadata": {},
     "output_type": "execute_result"
    }
   ],
   "source": [
    "gsearch4.cv_results_, gsearch4.best_params_, gsearch4.best_score_"
   ]
  },
  {
   "cell_type": "code",
   "execution_count": null,
   "metadata": {},
   "outputs": [],
   "source": []
  },
  {
   "cell_type": "code",
   "execution_count": 66,
   "metadata": {},
   "outputs": [
    {
     "data": {
      "text/plain": [
       "GridSearchCV(cv=5, error_score='raise-deprecating',\n",
       "       estimator=GradientBoostingClassifier(criterion='friedman_mse', init=None,\n",
       "              learning_rate=0.1, loss='deviance', max_depth=7,\n",
       "              max_features=9, max_leaf_nodes=None,\n",
       "              min_impurity_decrease=0.0, min_impurity_split=None,\n",
       "              min_samples_leaf=60, min_samples...      subsample=1.0, tol=0.0001, validation_fraction=0.1,\n",
       "              verbose=0, warm_start=False),\n",
       "       fit_params=None, iid=False, n_jobs=None,\n",
       "       param_grid={'subsample': [0.6, 0.7, 0.75, 0.8, 0.85, 0.9]},\n",
       "       pre_dispatch='2*n_jobs', refit=True, return_train_score='warn',\n",
       "       scoring='roc_auc', verbose=0)"
      ]
     },
     "execution_count": 66,
     "metadata": {},
     "output_type": "execute_result"
    }
   ],
   "source": [
    "# 对子采样的比例进行网格搜索\n",
    "param_test5 = {'subsample':[0.6,0.7,0.75,0.8,0.85,0.9]}\n",
    "gsearch5 = GridSearchCV(estimator = GradientBoostingClassifier(\n",
    "    learning_rate=0.1, \n",
    "    n_estimators=60,\n",
    "    max_depth=7, \n",
    "    min_samples_leaf =60, \n",
    "    min_samples_split =1200, \n",
    "    max_features=9, \n",
    "    random_state=10), \n",
    "param_grid = param_test5, scoring='roc_auc',iid=False, cv=5)\n",
    "gsearch5.fit(X_new,train_y)"
   ]
  },
  {
   "cell_type": "code",
   "execution_count": 67,
   "metadata": {},
   "outputs": [
    {
     "name": "stderr",
     "output_type": "stream",
     "text": [
      "D:\\Anaconda\\install\\lib\\site-packages\\sklearn\\utils\\deprecation.py:125: FutureWarning: You are accessing a training score ('split0_train_score'), which will not be available by default any more in 0.21. If you need training scores, please set return_train_score=True\n",
      "  warnings.warn(*warn_args, **warn_kwargs)\n",
      "D:\\Anaconda\\install\\lib\\site-packages\\sklearn\\utils\\deprecation.py:125: FutureWarning: You are accessing a training score ('split1_train_score'), which will not be available by default any more in 0.21. If you need training scores, please set return_train_score=True\n",
      "  warnings.warn(*warn_args, **warn_kwargs)\n",
      "D:\\Anaconda\\install\\lib\\site-packages\\sklearn\\utils\\deprecation.py:125: FutureWarning: You are accessing a training score ('split2_train_score'), which will not be available by default any more in 0.21. If you need training scores, please set return_train_score=True\n",
      "  warnings.warn(*warn_args, **warn_kwargs)\n",
      "D:\\Anaconda\\install\\lib\\site-packages\\sklearn\\utils\\deprecation.py:125: FutureWarning: You are accessing a training score ('split3_train_score'), which will not be available by default any more in 0.21. If you need training scores, please set return_train_score=True\n",
      "  warnings.warn(*warn_args, **warn_kwargs)\n",
      "D:\\Anaconda\\install\\lib\\site-packages\\sklearn\\utils\\deprecation.py:125: FutureWarning: You are accessing a training score ('split4_train_score'), which will not be available by default any more in 0.21. If you need training scores, please set return_train_score=True\n",
      "  warnings.warn(*warn_args, **warn_kwargs)\n",
      "D:\\Anaconda\\install\\lib\\site-packages\\sklearn\\utils\\deprecation.py:125: FutureWarning: You are accessing a training score ('mean_train_score'), which will not be available by default any more in 0.21. If you need training scores, please set return_train_score=True\n",
      "  warnings.warn(*warn_args, **warn_kwargs)\n",
      "D:\\Anaconda\\install\\lib\\site-packages\\sklearn\\utils\\deprecation.py:125: FutureWarning: You are accessing a training score ('std_train_score'), which will not be available by default any more in 0.21. If you need training scores, please set return_train_score=True\n",
      "  warnings.warn(*warn_args, **warn_kwargs)\n"
     ]
    },
    {
     "data": {
      "text/plain": [
       "({'mean_fit_time': array([ 9.2664834 ,  9.98852768, 11.41073852, 11.42534032, 10.84621248,\n",
       "         10.81431661]),\n",
       "  'std_fit_time': array([0.95863216, 0.56368619, 0.64458005, 0.34469778, 0.58669094,\n",
       "         0.83463582]),\n",
       "  'mean_score_time': array([0.06124434, 0.06310782, 0.07445602, 0.0678484 , 0.0662478 ,\n",
       "         0.0652494 ]),\n",
       "  'std_score_time': array([0.00278776, 0.00354351, 0.01743235, 0.00830759, 0.00624643,\n",
       "         0.00240009]),\n",
       "  'param_subsample': masked_array(data=[0.6, 0.7, 0.75, 0.8, 0.85, 0.9],\n",
       "               mask=[False, False, False, False, False, False],\n",
       "         fill_value='?',\n",
       "              dtype=object),\n",
       "  'params': [{'subsample': 0.6},\n",
       "   {'subsample': 0.7},\n",
       "   {'subsample': 0.75},\n",
       "   {'subsample': 0.8},\n",
       "   {'subsample': 0.85},\n",
       "   {'subsample': 0.9}],\n",
       "  'split0_test_score': array([0.99946808, 0.99946727, 0.9994687 , 0.99946498, 0.99947625,\n",
       "         0.99946617]),\n",
       "  'split1_test_score': array([0.99945742, 0.99944878, 0.99944634, 0.99946193, 0.99943203,\n",
       "         0.99944436]),\n",
       "  'split2_test_score': array([0.9996102 , 0.99960343, 0.99959956, 0.99960679, 0.99960149,\n",
       "         0.99960743]),\n",
       "  'split3_test_score': array([0.99949191, 0.99948659, 0.99949621, 0.99949432, 0.99950134,\n",
       "         0.99949939]),\n",
       "  'split4_test_score': array([0.99945315, 0.99943935, 0.99943302, 0.99943841, 0.99943634,\n",
       "         0.999435  ]),\n",
       "  'mean_test_score': array([0.99949615, 0.99948908, 0.99948877, 0.99949329, 0.99948949,\n",
       "         0.99949047]),\n",
       "  'std_test_score': array([5.85893233e-05, 5.94239081e-05, 5.93980921e-05, 5.94623001e-05,\n",
       "         6.16214816e-05, 6.25332257e-05]),\n",
       "  'rank_test_score': array([1, 5, 6, 2, 4, 3]),\n",
       "  'split0_train_score': array([0.99956779, 0.99956564, 0.99956952, 0.99956805, 0.99957026,\n",
       "         0.99956935]),\n",
       "  'split1_train_score': array([0.99956087, 0.99956558, 0.99956166, 0.99956369, 0.99956756,\n",
       "         0.9995617 ]),\n",
       "  'split2_train_score': array([0.99952538, 0.9995242 , 0.99952637, 0.99952771, 0.99952714,\n",
       "         0.99953198]),\n",
       "  'split3_train_score': array([0.99955254, 0.99955296, 0.99955459, 0.99955445, 0.99955472,\n",
       "         0.99955394]),\n",
       "  'split4_train_score': array([0.99956157, 0.99956856, 0.99956824, 0.99956931, 0.9995655 ,\n",
       "         0.99956375]),\n",
       "  'mean_train_score': array([0.99955363, 0.99955539, 0.99955608, 0.99955664, 0.99955704,\n",
       "         0.99955614]),\n",
       "  'std_train_score': array([1.49348203e-05, 1.64998217e-05, 1.57752062e-05, 1.53757182e-05,\n",
       "         1.58498279e-05, 1.30551862e-05])},\n",
       " {'subsample': 0.6},\n",
       " 0.9994961502270661)"
      ]
     },
     "execution_count": 67,
     "metadata": {},
     "output_type": "execute_result"
    }
   ],
   "source": [
    "gsearch5.cv_results_, gsearch5.best_params_, gsearch5.best_score_"
   ]
  },
  {
   "cell_type": "code",
   "execution_count": null,
   "metadata": {},
   "outputs": [],
   "source": []
  },
  {
   "cell_type": "code",
   "execution_count": 69,
   "metadata": {},
   "outputs": [
    {
     "name": "stdout",
     "output_type": "stream",
     "text": [
      "Accuracy : 0.9957\n"
     ]
    }
   ],
   "source": [
    "# 可以减半步长，最大迭代次数加倍\n",
    "gbm2 = GradientBoostingClassifier(\n",
    "    learning_rate=0.05, \n",
    "    n_estimators=120,\n",
    "    max_depth=7, \n",
    "    min_samples_leaf =60, \n",
    "    min_samples_split =10, \n",
    "    max_features=9, \n",
    "    subsample=0.6, \n",
    "    random_state=10)\n",
    "gbm2.fit(X_new,train_y)\n",
    "y_pred = gbm2.predict(test_X_new)\n",
    "print(\"Accuracy : %.4g\" % metrics.accuracy_score(test_y, y_pred))"
   ]
  },
  {
   "cell_type": "code",
   "execution_count": 70,
   "metadata": {},
   "outputs": [
    {
     "name": "stdout",
     "output_type": "stream",
     "text": [
      "Accuracy : 0.9957\n"
     ]
    }
   ],
   "source": [
    "# 继续将步长缩小5倍，最大迭代次数增加5倍\n",
    "gbm3 = GradientBoostingClassifier(\n",
    "    learning_rate=0.01, \n",
    "    n_estimators=600,\n",
    "    max_depth=7, \n",
    "    min_samples_leaf =60, \n",
    "    min_samples_split =10, \n",
    "    max_features=9, \n",
    "    subsample=0.7, \n",
    "    random_state=10)\n",
    "gbm3.fit(X_new,train_y)\n",
    "y_pred = gbm3.predict(test_X_new)\n",
    "print(\"Accuracy : %.4g\" % metrics.accuracy_score(test_y, y_pred))"
   ]
  },
  {
   "cell_type": "code",
   "execution_count": 71,
   "metadata": {},
   "outputs": [
    {
     "name": "stdout",
     "output_type": "stream",
     "text": [
      "Accuracy : 0.9957\n"
     ]
    }
   ],
   "source": [
    "# 继续步长缩小一半，最大迭代次数增加2倍\n",
    "gbm4 = GradientBoostingClassifier(\n",
    "    learning_rate=0.005, \n",
    "    n_estimators=1200,\n",
    "    max_depth=7, \n",
    "    min_samples_leaf =60, \n",
    "    min_samples_split =10, \n",
    "    max_features=9, \n",
    "    subsample=0.7, \n",
    "    random_state=10)\n",
    "gbm4.fit(X_new,train_y)\n",
    "y_pred = gbm4.predict(test_X_new)\n",
    "print(\"Accuracy : %.4g\" % metrics.accuracy_score(test_y, y_pred))"
   ]
  },
  {
   "cell_type": "code",
   "execution_count": null,
   "metadata": {},
   "outputs": [],
   "source": []
  },
  {
   "cell_type": "code",
   "execution_count": null,
   "metadata": {},
   "outputs": [],
   "source": []
  },
  {
   "cell_type": "markdown",
   "metadata": {},
   "source": [
    "## RandomForestClassifier"
   ]
  },
  {
   "cell_type": "code",
   "execution_count": 27,
   "metadata": {},
   "outputs": [],
   "source": [
    "from sklearn.ensemble import RandomForestClassifier, GradientBoostingClassifier\n",
    "from sklearn.metrics import classification_report\n",
    "from sklearn.metrics import accuracy_score"
   ]
  },
  {
   "cell_type": "markdown",
   "metadata": {},
   "source": [
    "### matching"
   ]
  },
  {
   "cell_type": "code",
   "execution_count": 28,
   "metadata": {},
   "outputs": [
    {
     "name": "stderr",
     "output_type": "stream",
     "text": [
      "D:\\Anaconda\\install\\lib\\site-packages\\sklearn\\ensemble\\forest.py:246: FutureWarning: The default value of n_estimators will change from 10 in version 0.20 to 100 in 0.22.\n",
      "  \"10 in version 0.20 to 100 in 0.22.\", FutureWarning)\n"
     ]
    },
    {
     "data": {
      "text/plain": [
       "RandomForestClassifier(bootstrap=True, class_weight=None, criterion='gini',\n",
       "            max_depth=None, max_features='auto', max_leaf_nodes=None,\n",
       "            min_impurity_decrease=0.0, min_impurity_split=None,\n",
       "            min_samples_leaf=1, min_samples_split=2,\n",
       "            min_weight_fraction_leaf=0.0, n_estimators=10, n_jobs=None,\n",
       "            oob_score=False, random_state=None, verbose=0,\n",
       "            warm_start=False)"
      ]
     },
     "execution_count": 28,
     "metadata": {},
     "output_type": "execute_result"
    }
   ],
   "source": [
    "rfc = RandomForestClassifier()\n",
    "rfc.fit(X_new, train_y)"
   ]
  },
  {
   "cell_type": "code",
   "execution_count": 29,
   "metadata": {},
   "outputs": [
    {
     "data": {
      "text/plain": [
       "30521"
      ]
     },
     "execution_count": 29,
     "metadata": {},
     "output_type": "execute_result"
    }
   ],
   "source": [
    "rfc_y_predict = rfc.predict(test_X_new)\n",
    "rfc_y_predict.sum()"
   ]
  },
  {
   "cell_type": "code",
   "execution_count": 30,
   "metadata": {},
   "outputs": [
    {
     "name": "stdout",
     "output_type": "stream",
     "text": [
      "0.9956666666666667\n"
     ]
    }
   ],
   "source": [
    "print(accuracy_score(rfc_y_predict, test_y))"
   ]
  },
  {
   "cell_type": "code",
   "execution_count": 31,
   "metadata": {},
   "outputs": [
    {
     "name": "stdout",
     "output_type": "stream",
     "text": [
      "0.9956666666666667\n"
     ]
    }
   ],
   "source": [
    "print(rfc.score(test_X_new, test_y))"
   ]
  },
  {
   "cell_type": "code",
   "execution_count": 32,
   "metadata": {},
   "outputs": [
    {
     "name": "stdout",
     "output_type": "stream",
     "text": [
      "              precision    recall  f1-score   support\n",
      "\n",
      "           0       1.00      0.99      1.00     59857\n",
      "           1       0.99      1.00      0.99     30143\n",
      "\n",
      "   micro avg       1.00      1.00      1.00     90000\n",
      "   macro avg       0.99      1.00      1.00     90000\n",
      "weighted avg       1.00      1.00      1.00     90000\n",
      "\n"
     ]
    }
   ],
   "source": [
    "print(classification_report(test_y, rfc_y_predict, target_names=[\"0\", \"1\"]))"
   ]
  },
  {
   "cell_type": "markdown",
   "metadata": {},
   "source": [
    "### adapting"
   ]
  },
  {
   "cell_type": "code",
   "execution_count": 37,
   "metadata": {},
   "outputs": [],
   "source": [
    "from sklearn.model_selection import GridSearchCV\n",
    "from sklearn.model_selection import cross_val_score\n",
    "from sklearn import metrics\n",
    "\n",
    "import matplotlib.pylab as plt\n",
    "%matplotlib inline"
   ]
  },
  {
   "cell_type": "code",
   "execution_count": 40,
   "metadata": {},
   "outputs": [
    {
     "data": {
      "text/plain": [
       "GridSearchCV(cv=5, error_score='raise-deprecating',\n",
       "       estimator=RandomForestClassifier(bootstrap=True, class_weight=None, criterion='gini',\n",
       "            max_depth=8, max_features='sqrt', max_leaf_nodes=None,\n",
       "            min_impurity_decrease=0.0, min_impurity_split=None,\n",
       "            min_samples_leaf=20, min_samples_split=100,\n",
       "            min_weight_fraction_leaf=0.0, n_estimators='warn', n_jobs=None,\n",
       "            oob_score=False, random_state=10, verbose=0, warm_start=False),\n",
       "       fit_params=None, iid='warn', n_jobs=None,\n",
       "       param_grid={'n_estimators': range(10, 101, 10)},\n",
       "       pre_dispatch='2*n_jobs', refit=True, return_train_score='warn',\n",
       "       scoring='roc_auc', verbose=0)"
      ]
     },
     "execution_count": 40,
     "metadata": {},
     "output_type": "execute_result"
    }
   ],
   "source": [
    "# 首先对n_estimators进行网格搜索, 得到了最佳的弱学习器迭代次数\n",
    "param_test1 = {'n_estimators':range(10,101,10)}\n",
    "gsearch1 = GridSearchCV(estimator = RandomForestClassifier(min_samples_split=100,\n",
    "                                                           min_samples_leaf=20,\n",
    "                                                           max_depth=8,\n",
    "                                                           max_features='sqrt',\n",
    "                                                           random_state=10), \n",
    "                                                           param_grid = param_test1, \n",
    "                                                           scoring='roc_auc',cv=5)\n",
    "gsearch1.fit(X_new, train_y)"
   ]
  },
  {
   "cell_type": "code",
   "execution_count": 41,
   "metadata": {},
   "outputs": [
    {
     "name": "stderr",
     "output_type": "stream",
     "text": [
      "D:\\Anaconda\\install\\lib\\site-packages\\sklearn\\utils\\deprecation.py:125: FutureWarning: You are accessing a training score ('split0_train_score'), which will not be available by default any more in 0.21. If you need training scores, please set return_train_score=True\n",
      "  warnings.warn(*warn_args, **warn_kwargs)\n",
      "D:\\Anaconda\\install\\lib\\site-packages\\sklearn\\utils\\deprecation.py:125: FutureWarning: You are accessing a training score ('split1_train_score'), which will not be available by default any more in 0.21. If you need training scores, please set return_train_score=True\n",
      "  warnings.warn(*warn_args, **warn_kwargs)\n",
      "D:\\Anaconda\\install\\lib\\site-packages\\sklearn\\utils\\deprecation.py:125: FutureWarning: You are accessing a training score ('split2_train_score'), which will not be available by default any more in 0.21. If you need training scores, please set return_train_score=True\n",
      "  warnings.warn(*warn_args, **warn_kwargs)\n",
      "D:\\Anaconda\\install\\lib\\site-packages\\sklearn\\utils\\deprecation.py:125: FutureWarning: You are accessing a training score ('split3_train_score'), which will not be available by default any more in 0.21. If you need training scores, please set return_train_score=True\n",
      "  warnings.warn(*warn_args, **warn_kwargs)\n",
      "D:\\Anaconda\\install\\lib\\site-packages\\sklearn\\utils\\deprecation.py:125: FutureWarning: You are accessing a training score ('split4_train_score'), which will not be available by default any more in 0.21. If you need training scores, please set return_train_score=True\n",
      "  warnings.warn(*warn_args, **warn_kwargs)\n",
      "D:\\Anaconda\\install\\lib\\site-packages\\sklearn\\utils\\deprecation.py:125: FutureWarning: You are accessing a training score ('mean_train_score'), which will not be available by default any more in 0.21. If you need training scores, please set return_train_score=True\n",
      "  warnings.warn(*warn_args, **warn_kwargs)\n",
      "D:\\Anaconda\\install\\lib\\site-packages\\sklearn\\utils\\deprecation.py:125: FutureWarning: You are accessing a training score ('std_train_score'), which will not be available by default any more in 0.21. If you need training scores, please set return_train_score=True\n",
      "  warnings.warn(*warn_args, **warn_kwargs)\n"
     ]
    },
    {
     "data": {
      "text/plain": [
       "({'mean_fit_time': array([0.62796159, 1.20210514, 1.72704363, 2.29552846, 2.86190038,\n",
       "         3.4879992 , 3.93832574, 4.39359508, 4.93154502, 5.45520644]),\n",
       "  'std_fit_time': array([0.00879683, 0.03333474, 0.00706163, 0.03451269, 0.01421934,\n",
       "         0.15356639, 0.04845475, 0.07327373, 0.0721551 , 0.02950087]),\n",
       "  'mean_score_time': array([0.04619908, 0.08047771, 0.11163511, 0.1413825 , 0.17681546,\n",
       "         0.20938001, 0.23835807, 0.27423224, 0.30156469, 0.33152795]),\n",
       "  'std_score_time': array([0.00205187, 0.00626464, 0.00429324, 0.00158087, 0.00365319,\n",
       "         0.00319323, 0.00184544, 0.00552753, 0.00466671, 0.00237498]),\n",
       "  'param_n_estimators': masked_array(data=[10, 20, 30, 40, 50, 60, 70, 80, 90, 100],\n",
       "               mask=[False, False, False, False, False, False, False, False,\n",
       "                     False, False],\n",
       "         fill_value='?',\n",
       "              dtype=object),\n",
       "  'params': [{'n_estimators': 10},\n",
       "   {'n_estimators': 20},\n",
       "   {'n_estimators': 30},\n",
       "   {'n_estimators': 40},\n",
       "   {'n_estimators': 50},\n",
       "   {'n_estimators': 60},\n",
       "   {'n_estimators': 70},\n",
       "   {'n_estimators': 80},\n",
       "   {'n_estimators': 90},\n",
       "   {'n_estimators': 100}],\n",
       "  'split0_test_score': array([0.9994379 , 0.99941942, 0.99942271, 0.99942244, 0.99941788,\n",
       "         0.99941416, 0.9994138 , 0.9994112 , 0.99941469, 0.99942049]),\n",
       "  'split1_test_score': array([0.99946503, 0.99946123, 0.99946958, 0.99948115, 0.99948584,\n",
       "         0.99949551, 0.99949254, 0.99949513, 0.99950119, 0.99949578]),\n",
       "  'split2_test_score': array([0.99951462, 0.99954019, 0.99959709, 0.99958729, 0.9995871 ,\n",
       "         0.99959564, 0.99958143, 0.99958949, 0.99959593, 0.99959135]),\n",
       "  'split3_test_score': array([0.99948965, 0.99950194, 0.99951091, 0.99952466, 0.99952382,\n",
       "         0.99952664, 0.99950796, 0.99952176, 0.9995198 , 0.99951646]),\n",
       "  'split4_test_score': array([0.99940493, 0.99939519, 0.99941396, 0.99941274, 0.99941836,\n",
       "         0.99942438, 0.99942588, 0.99942769, 0.9994229 , 0.99942305]),\n",
       "  'mean_test_score': array([0.99946243, 0.99946359, 0.99948285, 0.99948566, 0.9994866 ,\n",
       "         0.99949127, 0.99948432, 0.99948905, 0.9994909 , 0.99948943]),\n",
       "  'std_test_score': array([3.84175805e-05, 5.28642264e-05, 6.68994182e-05, 6.50914267e-05,\n",
       "         6.45997559e-05, 6.72036096e-05, 6.07396177e-05, 6.48390266e-05,\n",
       "         6.69408448e-05, 6.37450888e-05]),\n",
       "  'rank_test_score': array([10,  9,  8,  6,  5,  1,  7,  4,  2,  3]),\n",
       "  'split0_train_score': array([0.99954277, 0.99953215, 0.99953521, 0.99954221, 0.99954629,\n",
       "         0.9995468 , 0.99954549, 0.99954842, 0.99955066, 0.99955285]),\n",
       "  'split1_train_score': array([0.99949764, 0.99949845, 0.99949944, 0.99950654, 0.99951176,\n",
       "         0.99951105, 0.99951835, 0.99951969, 0.99952152, 0.99951965]),\n",
       "  'split2_train_score': array([0.99949366, 0.99950849, 0.99950735, 0.99950778, 0.99951357,\n",
       "         0.99951517, 0.99951807, 0.99951831, 0.99951482, 0.99951412]),\n",
       "  'split3_train_score': array([0.99951378, 0.99951522, 0.99951641, 0.99951832, 0.99952767,\n",
       "         0.99953046, 0.99953156, 0.99953605, 0.99952903, 0.99953145]),\n",
       "  'split4_train_score': array([0.99952566, 0.999532  , 0.99953501, 0.99953586, 0.99953913,\n",
       "         0.99954408, 0.99954492, 0.99954455, 0.99954392, 0.99954419]),\n",
       "  'mean_train_score': array([0.9995147 , 0.99951726, 0.99951868, 0.99952214, 0.99952768,\n",
       "         0.99952951, 0.99953168, 0.9995334 , 0.99953199, 0.99953245]),\n",
       "  'std_train_score': array([1.81254814e-05, 1.32187320e-05, 1.44453465e-05, 1.45265838e-05,\n",
       "         1.36373088e-05, 1.45494528e-05, 1.20735421e-05, 1.24304387e-05,\n",
       "         1.34484887e-05, 1.45273385e-05])},\n",
       " {'n_estimators': 60},\n",
       " 0.9994912661485112)"
      ]
     },
     "execution_count": 41,
     "metadata": {},
     "output_type": "execute_result"
    }
   ],
   "source": [
    "gsearch1.cv_results_, gsearch1.best_params_, gsearch1.best_score_"
   ]
  },
  {
   "cell_type": "code",
   "execution_count": null,
   "metadata": {},
   "outputs": [],
   "source": [
    "# 'n_estimators': 60"
   ]
  },
  {
   "cell_type": "code",
   "execution_count": null,
   "metadata": {},
   "outputs": [],
   "source": [
    "# 对决策树最大深度max_depth和内部节点再划分所需最小样本数min_samples_split进行网格搜索\n",
    "param_test2 = {'max_depth':range(3,11,2), 'min_samples_split':range(10,51,10)}\n",
    "gsearch2 = GridSearchCV(estimator = RandomForestClassifier(n_estimators= 60, \n",
    "                                                           min_samples_leaf=20,\n",
    "                                                           max_features='sqrt',\n",
    "                                                           oob_score=True, \n",
    "                                                           random_state=10),\n",
    "param_grid = param_test2, scoring='roc_auc',iid=False, cv=5)\n",
    "gsearch2.fit(X_new, train_y)"
   ]
  },
  {
   "cell_type": "code",
   "execution_count": null,
   "metadata": {},
   "outputs": [],
   "source": [
    "gsearch2.cv_results_, gsearch2.best_params_, gsearch2.best_score_"
   ]
  },
  {
   "cell_type": "code",
   "execution_count": null,
   "metadata": {},
   "outputs": [],
   "source": []
  },
  {
   "cell_type": "code",
   "execution_count": 44,
   "metadata": {},
   "outputs": [
    {
     "name": "stdout",
     "output_type": "stream",
     "text": [
      "0.9958952380952381\n"
     ]
    }
   ],
   "source": [
    "# 看看现在模型的袋外分数\n",
    "rf1 = RandomForestClassifier(n_estimators= 60, \n",
    "                             max_depth=7, \n",
    "                             min_samples_split=50,\n",
    "                             min_samples_leaf=20,\n",
    "                             max_features='sqrt',\n",
    "                             oob_score=True, \n",
    "                             random_state=10)\n",
    "rf1.fit(X_new, train_y)\n",
    "print(rf1.oob_score_)"
   ]
  },
  {
   "cell_type": "code",
   "execution_count": null,
   "metadata": {},
   "outputs": [],
   "source": []
  },
  {
   "cell_type": "code",
   "execution_count": null,
   "metadata": {},
   "outputs": [],
   "source": [
    "# 对内部节点再划分所需最小样本数min_samples_split和叶子节点最少样本数min_samples_leaf一起调参\n",
    "\n",
    "param_test3 = {'min_samples_split':range(80,150,20), 'min_samples_leaf':range(10,60,10)}\n",
    "gsearch3 = GridSearchCV(estimator = RandomForestClassifier(n_estimators= 60, \n",
    "                                                           max_depth=13,\n",
    "                                                           max_features='sqrt',\n",
    "                                                           oob_score=True, \n",
    "                                                           random_state=10),\n",
    "param_grid = param_test3, scoring='roc_auc',iid=False, cv=5)\n",
    "gsearch3.fit(X_new, train_y)"
   ]
  },
  {
   "cell_type": "code",
   "execution_count": null,
   "metadata": {},
   "outputs": [],
   "source": [
    "gsearch3.cv_results_, gsearch3.best_params_, gsearch3.best_score_"
   ]
  },
  {
   "cell_type": "code",
   "execution_count": null,
   "metadata": {},
   "outputs": [],
   "source": []
  },
  {
   "cell_type": "code",
   "execution_count": null,
   "metadata": {},
   "outputs": [],
   "source": [
    "# 对最大特征数max_features做调参\n",
    "param_test4 = {'max_features':range(3,11,2)}\n",
    "gsearch4 = GridSearchCV(estimator = RandomForestClassifier(n_estimators= 60, \n",
    "                                                           max_depth=13, \n",
    "                                                           min_samples_split=120,\n",
    "                                                           min_samples_leaf=20 ,\n",
    "                                                           oob_score=True, \n",
    "                                                           random_state=10),\n",
    "param_grid = param_test4, scoring='roc_auc',iid=False, cv=5)\n",
    "gsearch4.fit(X_new, train_y)"
   ]
  },
  {
   "cell_type": "code",
   "execution_count": null,
   "metadata": {},
   "outputs": [],
   "source": [
    "gsearch4.cv_results_, gsearch4.best_params_, gsearch4.best_score_"
   ]
  },
  {
   "cell_type": "code",
   "execution_count": null,
   "metadata": {},
   "outputs": [],
   "source": []
  },
  {
   "cell_type": "code",
   "execution_count": null,
   "metadata": {},
   "outputs": [],
   "source": [
    "# 用我们搜索到的最佳参数，我们再看看最终的模型拟合\n",
    "rf2 = RandomForestClassifier(n_estimators= 60, \n",
    "                             max_depth=13, \n",
    "                             min_samples_split=120,\n",
    "                             min_samples_leaf=20,\n",
    "                             max_features=7 ,\n",
    "                             oob_score=True, \n",
    "                             random_state=10)\n",
    "rf2.fit(X_new, train_y)\n",
    "print(rf2.oob_score_)"
   ]
  },
  {
   "cell_type": "code",
   "execution_count": null,
   "metadata": {},
   "outputs": [],
   "source": []
  },
  {
   "cell_type": "code",
   "execution_count": null,
   "metadata": {},
   "outputs": [],
   "source": []
  },
  {
   "cell_type": "code",
   "execution_count": null,
   "metadata": {},
   "outputs": [],
   "source": []
  },
  {
   "cell_type": "code",
   "execution_count": null,
   "metadata": {},
   "outputs": [],
   "source": []
  },
  {
   "cell_type": "code",
   "execution_count": null,
   "metadata": {},
   "outputs": [],
   "source": []
  },
  {
   "cell_type": "code",
   "execution_count": null,
   "metadata": {},
   "outputs": [],
   "source": []
  },
  {
   "cell_type": "code",
   "execution_count": null,
   "metadata": {},
   "outputs": [],
   "source": []
  },
  {
   "cell_type": "code",
   "execution_count": null,
   "metadata": {},
   "outputs": [],
   "source": []
  },
  {
   "cell_type": "code",
   "execution_count": null,
   "metadata": {},
   "outputs": [],
   "source": []
  },
  {
   "cell_type": "code",
   "execution_count": null,
   "metadata": {},
   "outputs": [],
   "source": []
  },
  {
   "cell_type": "code",
   "execution_count": null,
   "metadata": {},
   "outputs": [],
   "source": []
  },
  {
   "cell_type": "code",
   "execution_count": null,
   "metadata": {},
   "outputs": [],
   "source": []
  },
  {
   "cell_type": "code",
   "execution_count": null,
   "metadata": {},
   "outputs": [],
   "source": []
  },
  {
   "cell_type": "code",
   "execution_count": null,
   "metadata": {},
   "outputs": [],
   "source": []
  }
 ],
 "metadata": {
  "kernelspec": {
   "display_name": "Python 3",
   "language": "python",
   "name": "python3"
  },
  "language_info": {
   "codemirror_mode": {
    "name": "ipython",
    "version": 3
   },
   "file_extension": ".py",
   "mimetype": "text/x-python",
   "name": "python",
   "nbconvert_exporter": "python",
   "pygments_lexer": "ipython3",
   "version": "3.6.8"
  },
  "latex_envs": {
   "LaTeX_envs_menu_present": true,
   "autoclose": false,
   "autocomplete": true,
   "bibliofile": "biblio.bib",
   "cite_by": "apalike",
   "current_citInitial": 1,
   "eqLabelWithNumbers": true,
   "eqNumInitial": 1,
   "hotkeys": {
    "equation": "Ctrl-E",
    "itemize": "Ctrl-I"
   },
   "labels_anchors": false,
   "latex_user_defs": false,
   "report_style_numbering": false,
   "user_envs_cfg": false
  },
  "toc": {
   "base_numbering": 1,
   "nav_menu": {},
   "number_sections": true,
   "sideBar": true,
   "skip_h1_title": false,
   "title_cell": "Table of Contents",
   "title_sidebar": "Contents",
   "toc_cell": false,
   "toc_position": {},
   "toc_section_display": true,
   "toc_window_display": false
  }
 },
 "nbformat": 4,
 "nbformat_minor": 2
}
